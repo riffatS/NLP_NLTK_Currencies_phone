{
 "cells": [
  {
   "cell_type": "code",
   "execution_count": 11,
   "id": "5802476c",
   "metadata": {},
   "outputs": [],
   "source": [
    "import numpy as np\n",
    "import pandas as pd\n",
    "import csv\n",
    "import re"
   ]
  },
  {
   "cell_type": "markdown",
   "id": "7b7e35df",
   "metadata": {},
   "source": [
    "<H1> Part 1 \n",
    "Matching Currencies </H1>"
   ]
  },
  {
   "cell_type": "code",
   "execution_count": 38,
   "id": "e3f7ffaf",
   "metadata": {},
   "outputs": [
    {
     "name": "stdout",
     "output_type": "stream",
     "text": [
      "matched values \n",
      "['$100', '30', 'p', '$1312', 'bn', '£100million', '€100', 'Rs10202.0', '14', '30billion', '10bn']\n"
     ]
    }
   ],
   "source": [
    "#example on a string\n",
    "z=\"Hey I have $100 30p totalled more than $1312 bn £100million €100 Rs10202.014 30billion 10bn\"\n",
    "\n",
    "currency_data = re.findall(r\"([£€$]|Rs)?(\\d*(?:[,\\.]\\d)?)?(?:((?:[tT]r|[bm])illion)?([bm]n)?)?(?:(?:Rs)?|([Pp])?|(?:euros)?)?\",z)\n",
    "# print(\"matched values are \",currency_data)\n",
    "currencies = []\n",
    "for currency in currency_data:\n",
    "    if \"\" == currency[0] and \"\" == currency[1] and \"\" == currency[2] and \"\" == currency[3] and \"\" == currency[4]:\n",
    "        continue\n",
    "    else:\n",
    "        currencies.append(currency[0]+currency[1]+currency[2]+currency[3]+currency[4])\n",
    "print(\"matched values \")\n",
    "print(currencies)\n"
   ]
  },
  {
   "cell_type": "code",
   "execution_count": 9,
   "id": "fdf2e7b2",
   "metadata": {},
   "outputs": [
    {
     "name": "stdout",
     "output_type": "stream",
     "text": [
      "prettified matched values \n",
      "['$131bn', '£100bn', '$100bn', '$17.4bn']\n"
     ]
    }
   ],
   "source": [
    "#bbc file\n",
    "\n",
    "#reading the bbc file \n",
    "bbcfile = open('bbc.txt')\n",
    "bbc=bbcfile.read()\n",
    "\n",
    "bbcCurrencies = []\n",
    "    \n",
    "#match the bbc files    \n",
    "currency_data = re.findall(r\"([£€$]|Rs)(\\d*(?:[,\\.]\\d)?)?(?:((?:[tT]r|[bm])illion)?([bm]n)?)?(?:(?:Rs)?|(?:euros)?)?\",bbc)\n",
    "currencies = []\n",
    "for currency in currency_data:\n",
    "    if \"\" == currency[0] and \"\" == currency[1] and \"\" == currency[2] and \"\" == currency[3] :\n",
    "        continue\n",
    "    else:\n",
    "        currencies.append(currency[0]+currency[1]+currency[2]+currency[3])\n",
    "\n",
    "print(\"prettified matched values \")\n",
    "print(currencies)\n",
    "        \n"
   ]
  },
  {
   "cell_type": "code",
   "execution_count": null,
   "id": "06c2ce59",
   "metadata": {},
   "outputs": [],
   "source": []
  },
  {
   "cell_type": "markdown",
   "id": "9f021e95",
   "metadata": {},
   "source": [
    "<H1>Part 2 Matching Phone Numbers </H1>"
   ]
  },
  {
   "cell_type": "code",
   "execution_count": 16,
   "id": "32b77066",
   "metadata": {},
   "outputs": [
    {
     "name": "stdout",
     "output_type": "stream",
     "text": [
      "match the follwoing \n",
      "555.123.4565\n",
      "the string matched is: \n",
      "[('555.1',), ('23.4',), ('565',), ()]\n",
      "match the follwoing \n",
      "+1-(800)-545-2468\n",
      "the string matched is: \n",
      "[('+1-', '(800)-5'), ('45-2',), ('468',), ()]\n",
      "match the follwoing \n",
      "2-(800)-545-2468\n",
      "the string matched is: \n",
      "[('2',), (), ('(800)-5',), ('45-2',), ('468',), ()]\n",
      "match the follwoing \n",
      "3-800-545-2468\n",
      "the string matched is: \n",
      "[('3-8',), ('00-5',), ('45-2',), ('468',), ()]\n",
      "match the follwoing \n",
      "555-123-3456\n",
      "the string matched is: \n",
      "[('555-1',), ('23-3',), ('456',), ()]\n",
      "match the follwoing \n",
      "555 222 3342\n",
      "the string matched is: \n",
      "[('555 2',), ('22 3',), ('342',), ()]\n",
      "match the follwoing \n",
      "(234) 234 2442\n",
      "the string matched is: \n",
      "[('(234) 2',), ('34 2',), ('442',), ()]\n",
      "match the follwoing \n",
      "(243)-234-2342\n",
      "the string matched is: \n",
      "[('(243)-2',), ('34-2',), ('342',), ()]\n",
      "match the follwoing \n",
      "+1234567890\n",
      "the string matched is: \n",
      "[(), ('1234567890',), ()]\n",
      "match the follwoing \n",
      "123.456.7890\n",
      "the string matched is: \n",
      "[('123.4',), ('56.7',), ('890',), ()]\n",
      "match the follwoing \n",
      "123.4567\n",
      "the string matched is: \n",
      "[('123.4',), ('567',), ()]\n",
      "match the follwoing \n",
      "123-4567\n",
      "the string matched is: \n",
      "[('123-4',), ('567',), ()]\n",
      "match the follwoing \n",
      "1234567900\n",
      "the string matched is: \n",
      "[('1234567900',), ()]\n",
      "match the follwoing \n",
      "12345678900\n",
      "the string matched is: \n",
      "[('12345678900',), ()]\n"
     ]
    }
   ],
   "source": [
    "\n",
    "things=[]\n",
    "s=\"\"\n",
    "c=0\n",
    "hand = open('phoneNumbers.txt')\n",
    "\n",
    "for line in hand:\n",
    "    line = line.rstrip()\n",
    "    print(\"match the follwoing \")\n",
    "    print(line)\n",
    "    print(\"the string matched is: \")\n",
    "    s=[tuple(i for i in m if i) for m in re.findall('(\\+\\d[ -])?([(]?\\d*[). -]*?\\d)?(\\d{4})?',line)]\n",
    "    print(s)\n",
    "    "
   ]
  },
  {
   "cell_type": "code",
   "execution_count": null,
   "id": "c9dd3db4",
   "metadata": {},
   "outputs": [],
   "source": []
  }
 ],
 "metadata": {
  "celltoolbar": "Raw Cell Format",
  "kernelspec": {
   "display_name": "Python 3 (ipykernel)",
   "language": "python",
   "name": "python3"
  },
  "language_info": {
   "codemirror_mode": {
    "name": "ipython",
    "version": 3
   },
   "file_extension": ".py",
   "mimetype": "text/x-python",
   "name": "python",
   "nbconvert_exporter": "python",
   "pygments_lexer": "ipython3",
   "version": "3.9.7"
  }
 },
 "nbformat": 4,
 "nbformat_minor": 5
}
