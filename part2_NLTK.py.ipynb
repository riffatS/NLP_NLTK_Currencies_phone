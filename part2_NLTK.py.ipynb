{
 "cells": [
  {
   "cell_type": "markdown",
   "id": "e737335e",
   "metadata": {},
   "source": [
    "<h1>Find the 50 highest frequency word in Wall Street Journal corpus in NLTK.books (text7), \n",
    "submit your code as the name: part2_NLTK_studentID.py (All punctuation removed and all words lowercased.)</h1>"
   ]
  },
  {
   "cell_type": "code",
   "execution_count": 7,
   "id": "f0da12c9",
   "metadata": {},
   "outputs": [
    {
     "name": "stdout",
     "output_type": "stream",
     "text": [
      "showing info https://raw.githubusercontent.com/nltk/nltk_data/gh-pages/index.xml\n"
     ]
    },
    {
     "data": {
      "text/plain": [
       "True"
      ]
     },
     "execution_count": 7,
     "metadata": {},
     "output_type": "execute_result"
    }
   ],
   "source": [
    "import nltk\n",
    "nltk.download()\n"
   ]
  },
  {
   "cell_type": "code",
   "execution_count": 8,
   "id": "4adc2ca6",
   "metadata": {},
   "outputs": [],
   "source": [
    "from nltk.book import *\n",
    "from nltk import FreqDist\n",
    "from nltk import re\n",
    "from nltk import word_tokenize"
   ]
  },
  {
   "cell_type": "code",
   "execution_count": 12,
   "id": "8c80b919",
   "metadata": {},
   "outputs": [
    {
     "data": {
      "image/png": "[encoded data removed]",
      "text/plain": [
       "<Figure size 432x288 with 1 Axes>"
      ]
     },
     "metadata": {
      "needs_background": "light"
     },
     "output_type": "display_data"
    },
    {
     "name": "stdout",
     "output_type": "stream",
     "text": [
      "[('the', 4764), ('of', 2325), ('to', 2182), ('a', 1988), ('in', 1769), ('and', 1556), ('*-1', 1123), ('0', 1099), (\"'s\", 865), ('for', 853), ('that', 848), ('*t*-1', 806), ('*u*', 744), ('is', 672), ('said', 628), ('it', 577), ('on', 508), ('by', 440), ('at', 430), ('as', 415), ('with', 398), ('from', 391), ('million', 383), ('mr.', 375), ('*-2', 372), ('are', 369), ('was', 367), ('be', 356), ('*t*-2', 345), ('its', 343), ('has', 339), ('an', 335), ('new', 328), ('have', 325), (\"n't\", 325), ('but', 309), ('he', 303), ('or', 294), ('will', 281), ('they', 263), ('company', 260), ('which', 225), ('this', 224), ('u.s.', 221), ('says', 217), ('year', 214), ('about', 212), ('would', 209), ('more', 204), ('were', 197)]\n"
     ]
    }
   ],
   "source": [
    "text_tokens = text7.tokens\n",
    "text_tokens_nopunct = [word.lower() for word in text_tokens if re.search(\"\\w\", word)]\n",
    "fdist = FreqDist(text_tokens_nopunct)\n",
    "fiftyWords=fdist.most_common(50)\n",
    "fdist.plot(20, cumulative=False)\n",
    "print(fiftyWords)\n"
   ]
  }
 ],
 "metadata": {
  "kernelspec": {
   "display_name": "Python 3 (ipykernel)",
   "language": "python",
   "name": "python3"
  },
  "language_info": {
   "codemirror_mode": {
    "name": "ipython",
    "version": 3
   },
   "file_extension": ".py",
   "mimetype": "text/x-python",
   "name": "python",
   "nbconvert_exporter": "python",
   "pygments_lexer": "ipython3",
   "version": "3.9.7"
  }
 },
 "nbformat": 4,
 "nbformat_minor": 5
}
